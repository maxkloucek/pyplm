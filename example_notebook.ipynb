{
 "cells": [
  {
   "cell_type": "code",
   "execution_count": 1,
   "id": "e3312c8d",
   "metadata": {},
   "outputs": [],
   "source": [
    "import numpy as np\n",
    "import matplotlib.pyplot as plt\n",
    "import h5py"
   ]
  },
  {
   "cell_type": "code",
   "execution_count": 10,
   "id": "19b327e1",
   "metadata": {
    "scrolled": false
   },
   "outputs": [
    {
     "name": "stdout",
     "output_type": "stream",
     "text": [
      "[\"{'model': 'SK', 'N': 64, 'T': 0.6, 'h': 0, 'jmean': 0.4, 'jstd': 1}\"]\n",
      "[\"{'B_eq': 1000.0, 'B_sample': 5000.0, 'nChains': 6}\"]\n",
      "['3']\n",
      "(1, 64, 64)\n"
     ]
    }
   ],
   "source": [
    "file = 'testdata/test1.hdf5'\n",
    "group = 'simtest3'\n",
    "\n",
    "with h5py.File(file, 'r') as fin:\n",
    "    in_models = fin[group + '/inputModels'][()]\n",
    "    out_models = fin[group + '/inferredModels'][()]\n",
    "    trajectories = fin[group + '/configurations'][()]\n",
    "\n",
    "    mod_md = fin[group + '/inputModels_metadata'].asstr()[()]\n",
    "    sim_md = fin[group + '/configurations_metadata'].asstr()[()]\n",
    "    inf_md = fin[group + '/inferredModels_metadata'].asstr()[()]\n",
    "    print(mod_md)\n",
    "    print(sim_md)\n",
    "    print(inf_md)\n",
    "    print(in_models.shape)"
   ]
  }
 ],
 "metadata": {
  "kernelspec": {
   "display_name": "pyplm",
   "language": "python",
   "name": "python3"
  },
  "language_info": {
   "codemirror_mode": {
    "name": "ipython",
    "version": 3
   },
   "file_extension": ".py",
   "mimetype": "text/x-python",
   "name": "python",
   "nbconvert_exporter": "python",
   "pygments_lexer": "ipython3",
   "version": "3.9.12 (main, Jun  1 2022, 06:36:29) \n[Clang 12.0.0 ]"
  },
  "vscode": {
   "interpreter": {
    "hash": "71f1002abd804c6bd8b26fe5c0db8076b7ce28680c281a5e6ddaba8c60152e03"
   }
  }
 },
 "nbformat": 4,
 "nbformat_minor": 5
}
